{
 "cells": [
  {
   "cell_type": "markdown",
   "id": "19ae4d20-a94c-4361-a73e-250dc8ec4adb",
   "metadata": {},
   "source": [
    "# Deep Learning"
   ]
  },
  {
   "cell_type": "markdown",
   "id": "e55fba49-21fd-4047-8ee7-1a94c4caf536",
   "metadata": {},
   "source": [
    "This repo is a quick reference for Deep Learning.\n",
    "PyTorch is used as Deep Learning framework for experimenting."
   ]
  },
  {
   "cell_type": "markdown",
   "id": "c84aeaf9-5e27-475c-83f5-43d7235c7bd8",
   "metadata": {},
   "source": [
    "## Table of Contents\n",
    "\n",
    "- [Activation Functions](#activation-functions)"
   ]
  },
  {
   "cell_type": "markdown",
   "id": "ff633b5a-e821-4482-8381-19b3993c0a85",
   "metadata": {},
   "source": [
    "## Activation Functions\n",
    "\n",
    "$$\n",
    "relu(x) = max(0,x)\n",
    "$$"
   ]
  },
  {
   "cell_type": "code",
   "execution_count": null,
   "id": "2d4c3bbb-cb42-4078-9cc4-eff3f01510e8",
   "metadata": {},
   "outputs": [],
   "source": []
  }
 ],
 "metadata": {
  "kernelspec": {
   "display_name": "Python 3 (ipykernel)",
   "language": "python",
   "name": "python3"
  },
  "language_info": {
   "codemirror_mode": {
    "name": "ipython",
    "version": 3
   },
   "file_extension": ".py",
   "mimetype": "text/x-python",
   "name": "python",
   "nbconvert_exporter": "python",
   "pygments_lexer": "ipython3",
   "version": "3.8.12"
  }
 },
 "nbformat": 4,
 "nbformat_minor": 5
}
