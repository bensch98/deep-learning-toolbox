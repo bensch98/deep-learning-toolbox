{
 "cells": [
  {
   "cell_type": "markdown",
   "id": "6567501d-07ec-4e35-bf9c-99132240aab3",
   "metadata": {},
   "source": [
    "# Vector Calculus\n",
    "\n",
    "## Differentiation\n",
    "\n",
    "$$\n",
    "\\frac{df}{dx} := \\lim \\limits_{h \\to \\infty} \\frac{f(x+h)-f(x)}{h}\n",
    "$$\n",
    "\n",
    "**Taylor Series:** The Taylor series is a function with an infinite sum of terms that are expressed in derivatives at a single point x<sub>0</sub> for a function <i>f</i>.\n",
    "\n",
    "$$\n",
    "T_n(x) := \\sum \\limits _{k=0} ^n \\frac{f^{(k)}(x_0)}{k!} (x-x_0)^k\n",
    "$$\n",
    "\n",
    "**Rules**:\n",
    "\n",
    "Product rule:\n",
    "\n",
    "$$\n",
    "(f(x)g(x))' = f'(x)g(x) + f(x)g'(x)\n",
    "$$\n",
    "\n",
    "Quotient rule:\n",
    "\n",
    "$$\n",
    "\\bigg(\\frac {f(x)}{g(x)}\\bigg)' = \\frac {f'(x)g(x) = f(x)g'(x)}{(g(x))^2}\n",
    "$$\n",
    "\n",
    "Sum rule:\n",
    "\n",
    "$$\n",
    "(f(x)+g(x))' = f'(x)+g'(x)\n",
    "$$\n",
    "\n",
    "Chain rule:\n",
    "\n",
    "$$\n",
    "(g(f(x)))' = (g \\circ f)'(x) = g'(f(x))f'(x)\n",
    "$$\n"
   ]
  },
  {
   "cell_type": "code",
   "execution_count": null,
   "id": "7a2a3d35-c234-44f3-aa3c-cdb000d77eaa",
   "metadata": {},
   "outputs": [],
   "source": [
    "\n"
   ]
  }
 ],
 "metadata": {
  "kernelspec": {
   "display_name": "Python 3 (ipykernel)",
   "language": "python",
   "name": "python3"
  },
  "language_info": {
   "codemirror_mode": {
    "name": "ipython",
    "version": 3
   },
   "file_extension": ".py",
   "mimetype": "text/x-python",
   "name": "python",
   "nbconvert_exporter": "python",
   "pygments_lexer": "ipython3",
   "version": "3.8.12"
  }
 },
 "nbformat": 4,
 "nbformat_minor": 5
}
