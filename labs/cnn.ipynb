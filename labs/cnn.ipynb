{
 "cells": [
  {
   "cell_type": "markdown",
   "id": "3c01f383-6ec6-4bee-9306-29d8492ad5d8",
   "metadata": {},
   "source": [
    "# Convolutional Neural Networks\n",
    "\n",
    "## Dimensions\n",
    "\n",
    "Convolutional Nerual Networks are mostly used for computer vision applications and handle therefore 2D images. However they can also be used for 1D or 3D problems. Regardless of the number of dimensions the dimensions of the preceding and subsequent layers must be coordinated with each other. To calculate the dimensions of each layer the dimensions of the preceding layer and the padding, dilation, kernel size and stride must be considered. As the padding, dilation, kernel size and stride do not necessarily have to be the same size in each dimension, they are indexed.\n",
    "\n",
    "$$\n",
    "X_{out} = \\Bigl\\lfloor \\frac{X_{in}+2 \\times padding[i]-dilation[i] \\times (kernel\\_size[i]-1)-1}{stride[i]}+1 \\Bigr\\rfloor\n",
    "$$\n",
    "\n",
    "Depending on i X refers to different dimensions. For one dimension, X is usually referred to as L to denote the line. For two dimensions, there is H for the height and W for the width of an image. In case of three dimensions, the first one refers to D for depth, the second to H for height and the third to W for width."
   ]
  },
  {
   "cell_type": "markdown",
   "id": "c8a54e06-c8c7-4d21-a84e-5935d79f728a",
   "metadata": {},
   "source": [
    "## Sources\n",
    "\n",
    "- [PyTorch. (2022). Conv2d.](https://pytorch.org/docs/stable/generated/torch.nn.Conv2d.html#torch.nn.Conv2d)"
   ]
  }
 ],
 "metadata": {
  "kernelspec": {
   "display_name": "Python 3 (ipykernel)",
   "language": "python",
   "name": "python3"
  },
  "language_info": {
   "codemirror_mode": {
    "name": "ipython",
    "version": 3
   },
   "file_extension": ".py",
   "mimetype": "text/x-python",
   "name": "python",
   "nbconvert_exporter": "python",
   "pygments_lexer": "ipython3",
   "version": "3.8.12"
  }
 },
 "nbformat": 4,
 "nbformat_minor": 5
}
