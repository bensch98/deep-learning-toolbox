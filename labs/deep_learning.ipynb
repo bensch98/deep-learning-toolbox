{
 "cells": [
  {
   "cell_type": "markdown",
   "id": "19ae4d20-a94c-4361-a73e-250dc8ec4adb",
   "metadata": {},
   "source": [
    "# Activation Functions\n",
    "\n",
    "This notebook gives a brief overview for everything important about activation functions.\n",
    "\n",
    "## Table of Contents\n",
    "\n",
    "- Sigmoid\n",
    "- Tanh\n",
    "- Softmax\n",
    "- ReLU\n",
    "- Step\n",
    "\n",
    "## ReLU\n",
    "\n",
    "$$\n",
    "relu(x) = max(0,x)\n",
    "$$"
   ]
  }
 ],
 "metadata": {
  "kernelspec": {
   "display_name": "Python 3 (ipykernel)",
   "language": "python",
   "name": "python3"
  },
  "language_info": {
   "codemirror_mode": {
    "name": "ipython",
    "version": 3
   },
   "file_extension": ".py",
   "mimetype": "text/x-python",
   "name": "python",
   "nbconvert_exporter": "python",
   "pygments_lexer": "ipython3",
   "version": "3.8.12"
  }
 },
 "nbformat": 4,
 "nbformat_minor": 5
}
