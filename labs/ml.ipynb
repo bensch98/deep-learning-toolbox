{
 "cells": [
  {
   "cell_type": "markdown",
   "id": "4de7f257-9251-42bb-b2ce-f466f654cb00",
   "metadata": {},
   "source": [
    "# Machine Learning\n",
    "\n",
    "## Models and Data\n",
    "\n",
    "## Linear Regression\n",
    "Finding a regression function requires solving a variety of problems, including the following:\n",
    "- Choice of the model (type) and the parametrtization\n",
    "- Finding good parameters\n",
    "- Overfitting and model selection\n",
    "- Relationship between loss functions and parameter priors\n",
    "- Uncertainty modeling\n",
    "\n",
    "Code example:"
   ]
  },
  {
   "cell_type": "code",
   "execution_count": 35,
   "id": "3ad0403b-0b39-4ec5-88ab-3270a9c005cd",
   "metadata": {},
   "outputs": [],
   "source": [
    "%matplotlib inline\n",
    "import matplotlib.pyplot as plt\n",
    "import numpy as np\n",
    "\n",
    "from sklearn import datasets\n",
    "from sklearn.model_selection import train_test_split\n",
    "from sklearn import linear_model\n",
    "from sklearn.metrics import mean_squared_error, r2_score\n",
    "\n",
    "import seaborn as sns\n",
    "import pandas as pd"
   ]
  },
  {
   "cell_type": "code",
   "execution_count": 50,
   "id": "bcdab7a5-cd13-4568-8e4b-2e1941d1a866",
   "metadata": {},
   "outputs": [
    {
     "name": "stdout",
     "output_type": "stream",
     "text": [
      "['age', 'sex', 'bmi', 'bp', 's1', 's2', 's3', 's4', 's5', 's6']\n",
      "Coefficients: [  30.53373824 -260.25734078  565.86152246  299.73236908 -356.96254661\n",
      "  127.04725468 -119.18366978   92.22879491  578.97687651   59.54307877]\n",
      "Intercept: 150.6210320083129\n",
      "Mean squared error (MSE): 2968.79\n",
      "Coefficient of determination (R^2): 0.53\n"
     ]
    }
   ],
   "source": [
    "# load dataset and create\n",
    "X, Y = datasets.load_diabetes(return_X_y=True)\n",
    "# print(diabetes.DESCR)\n",
    "\n",
    "# split datasets into train, test for X and Y\n",
    "X_train, X_test, Y_train, Y_test = train_test_split(X, Y, test_size=0.2)\n",
    "# shapes: (353, 10), (89, 10), (353,), (89,)\n",
    "\n",
    "model = linear_model.LinearRegression()\n",
    "model.fit(X_train, Y_train)\n",
    "Y_pred = model.predict(X_test)\n",
    "\n",
    "# model performance\n",
    "print(diabetes.feature_names)\n",
    "print('Coefficients:', model.coef_)\n",
    "print('Intercept:', model.intercept_)\n",
    "print('Mean squared error (MSE): %.2f' % mean_squared_error(Y_test, Y_pred))\n",
    "print('Coefficient of determination (R^2): %.2f' % r2_score(Y_test, Y_pred))"
   ]
  },
  {
   "cell_type": "code",
   "execution_count": 39,
   "id": "aaa9ead0-8798-4c1b-a051-325e3de8fcc4",
   "metadata": {},
   "outputs": [
    {
     "data": {
      "text/plain": [
       "<matplotlib.axes._subplots.AxesSubplot at 0x7fe5caa8b430>"
      ]
     },
     "execution_count": 39,
     "metadata": {},
     "output_type": "execute_result"
    },
    {
     "data": {
      "image/png": "[encoded data removed]",
      "text/plain": [
       "<Figure size 432x288 with 1 Axes>"
      ]
     },
     "metadata": {
      "needs_background": "light"
     },
     "output_type": "display_data"
    }
   ],
   "source": [
    "# show scatter plot\n",
    "sns.scatterplot(x=Y_test, y=Y_pred, alpha=0.5)"
   ]
  },
  {
   "cell_type": "markdown",
   "id": "a873861f-33e5-4983-a782-39369f0fa079",
   "metadata": {},
   "source": [
    "\n",
    "## Dimensionality Reduction\n",
    "\n",
    "## Density Estimation\n",
    "\n",
    "## Classification"
   ]
  },
  {
   "cell_type": "markdown",
   "id": "0106a117-2a10-4a5f-be89-57279893ae73",
   "metadata": {},
   "source": [
    "## Sources\n",
    "\n",
    "- [Deisenroth., M., Faisal, A., Ong, C. S. (2020). Mathematics for Machine Learning. Cambridge.](https://mml-book.github.io/book/mml-book.pdf)\n",
    "- [Goodfellow., I., Bengio, Y., and Courville, A. (2016). Deep Learning. MIT Press.](https://www.deeplearningbook.org/contents/linear_algebra.html)"
   ]
  }
 ],
 "metadata": {
  "kernelspec": {
   "display_name": "Python 3 (ipykernel)",
   "language": "python",
   "name": "python3"
  },
  "language_info": {
   "codemirror_mode": {
    "name": "ipython",
    "version": 3
   },
   "file_extension": ".py",
   "mimetype": "text/x-python",
   "name": "python",
   "nbconvert_exporter": "python",
   "pygments_lexer": "ipython3",
   "version": "3.8.12"
  }
 },
 "nbformat": 4,
 "nbformat_minor": 5
}
