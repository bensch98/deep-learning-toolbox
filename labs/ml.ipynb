{
 "cells": [
  {
   "cell_type": "markdown",
   "id": "4de7f257-9251-42bb-b2ce-f466f654cb00",
   "metadata": {},
   "source": [
    "# Machine Learning\n",
    "\n",
    "## Models and Data\n",
    "\n",
    "## Linear Regression\n",
    "\n",
    "## Dimensionality Reduction\n",
    "\n",
    "## Density Estimation\n",
    "\n",
    "## Classification\n",
    "\n"
   ]
  },
  {
   "cell_type": "markdown",
   "id": "0106a117-2a10-4a5f-be89-57279893ae73",
   "metadata": {},
   "source": [
    "## Sources\n",
    "\n",
    "- [Deisenroth., M., Faisal, A., Ong, C. S. (2020). Mathematics for Machine Learning. Cambridge.](https://mml-book.github.io/book/mml-book.pdf)\n",
    "- [Goodfellow., I., Bengio, Y., and Courville, A. (2016). Deep Learning. MIT Press.](https://www.deeplearningbook.org/contents/linear_algebra.html)"
   ]
  }
 ],
 "metadata": {
  "kernelspec": {
   "display_name": "Python 3 (ipykernel)",
   "language": "python",
   "name": "python3"
  },
  "language_info": {
   "codemirror_mode": {
    "name": "ipython",
    "version": 3
   },
   "file_extension": ".py",
   "mimetype": "text/x-python",
   "name": "python",
   "nbconvert_exporter": "python",
   "pygments_lexer": "ipython3",
   "version": "3.8.12"
  }
 },
 "nbformat": 4,
 "nbformat_minor": 5
}
