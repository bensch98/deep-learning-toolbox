{
 "cells": [
  {
   "cell_type": "markdown",
   "id": "c8a994bf-93fe-4cac-ba14-175a672155c0",
   "metadata": {},
   "source": [
    "# Probability and Distributions\n",
    "\n",
    "## Nomenclature for probability distributions\n",
    "\n",
    "| Type | \"Point probability\" | \"Interval probability\" |\n",
    "| --- | --- | --- |\n",
    "| Discrete | *P(X = x)* <br>Probability mass function (pmf) | Not applicable |\n",
    "| Continuous | *p(x)* <br>Probability density function (pdf) | *P(X $\\it \\le$ x)* <br>Cumulative distribution function |"
   ]
  },
  {
   "cell_type": "markdown",
   "id": "f480a535-396d-4bc2-8cfa-00f2ec322873",
   "metadata": {},
   "source": [
    "## Sources\n",
    "\n",
    "- [Deisenroth., M., Faisal, A., Ong, C. S. (2020). Mathematics for Machine Learning. Cambridge.](https://mml-book.github.io/book/mml-book.pdf)"
   ]
  }
 ],
 "metadata": {
  "kernelspec": {
   "display_name": "Python 3 (ipykernel)",
   "language": "python",
   "name": "python3"
  },
  "language_info": {
   "codemirror_mode": {
    "name": "ipython",
    "version": 3
   },
   "file_extension": ".py",
   "mimetype": "text/x-python",
   "name": "python",
   "nbconvert_exporter": "python",
   "pygments_lexer": "ipython3",
   "version": "3.8.12"
  }
 },
 "nbformat": 4,
 "nbformat_minor": 5
}
