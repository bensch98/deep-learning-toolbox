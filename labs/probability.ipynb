{
 "cells": [
  {
   "cell_type": "markdown",
   "id": "c8a994bf-93fe-4cac-ba14-175a672155c0",
   "metadata": {},
   "source": [
    "# Probability and Distributions\n",
    "\n",
    "## Nomenclature for probability distributions\n",
    "\n",
    "| Type | \"Point probability\" | \"Interval probability\" |\n",
    "| --- | --- | --- |\n",
    "| Discrete | *P(X = x)* <br>Probability mass function (pmf) | Not applicable |\n",
    "| Continuous | *p(x)* <br>Probability density function (pdf) | *P(X $\\it \\le$ x)* <br>Cumulative distribution function |"
   ]
  },
  {
   "cell_type": "markdown",
   "id": "e3eb739d-53d3-4f25-87f3-d22467f017cc",
   "metadata": {
    "tags": []
   },
   "source": [
    "## Sum Rule, Product Rule and Bayes' Theorem\n",
    "\n",
    "Sum rule:\n",
    "\n",
    "$$\n",
    "p(x) = \\begin{cases}\n",
    "    \\sum p({\\bf x},{\\bf y}) &  if  \\ {\\bf y} \\ is \\ discrete \\\\\n",
    "    \\int _Y ^{y \\in Y} p(x,y)dy & if \\ {\\bf y} \\ is \\ continuous\n",
    "\\end{cases}\n",
    "$$\n",
    "\n",
    "Product rule:\n",
    "\n",
    "$$\n",
    "p({\\bf x},{\\bf y}) = p({\\bf y}|{\\bf x})p({\\bf x})\n",
    "$$\n",
    "\n",
    "Bayes' theorem:\n",
    "\n",
    "$$\n",
    "p({\\bf x},{\\bf y}) = \\frac {p({\\bf y}|{\\bf x})p({\\bf x})}{p({\\bf y})}\n",
    "$$"
   ]
  },
  {
   "cell_type": "markdown",
   "id": "377a1963-cb20-458e-bd14-85b70f35cb90",
   "metadata": {
    "tags": []
   },
   "source": [
    "## Means and Covariances\n",
    "\n",
    "**Expected Value:** The expected value of a function $g : \\mathbb{R} \\rightarrow \\mathbb{R}$ of a univariate continuous random variable $X \\sim p(x)$ is given by:\n",
    "\n",
    "$$\n",
    "\\mathbb{E}_X [g(x)] = \\int _X g(x)p(x)dx\n",
    "$$\n",
    "\n",
    "The expected value of a function g of a discrete random variable $X \\sim p(x)$ is given by\n",
    "\n",
    "$$\n",
    "\\mathbb{E}_X [g(x)] = \\sum \\limits _{x \\in X} g(x)p(x)\n",
    "$$\n",
    "\n",
    "where X is the set of possible outcomes (the target space) of the random variable X.\n",
    "\n",
    "**Mean:** The mean of a random variable X with states $x \\in \\mathbb{R}^D$ is an average and is defined as:\n",
    "\n",
    "$$\n",
    "\\mathbb{E} _{x_d} [x_d] := \\begin{cases}\n",
    "    \\int _X x_d p(x_d)dx_d & \\textrm{if X is a continuous random variable} \\\\\n",
    "    \\sum \\limits _{x_i \\in X} x_i p(x_d=x_i) & \\textrm{if X is a discrete random variable}\n",
    "\\end{cases}\n",
    "$$\n",
    "\n",
    "**Univariate Covariance:** The covariance between two univariate random variables $X,Y \\in \\mathbb{R}$ is given by the excpected product of their deviations from their respective means:\n",
    "\n",
    "$$\n",
    "Cov[x,y] = \\mathbb{E}[xy] - \\mathbb{E}[x]\\mathbb{E}[y]\n",
    "$$\n",
    " \n",
    "**Multivariate Covariance:** For two multivariate variables $X$ and $Y$ with states $x \\in \\mathbb{R}^D$ and $y \\in \\mathbb{R}^E$, the covariance between $X$ and $Y$ is defined as:\n",
    "\n",
    "$$\n",
    "Cov[x,y] = \\mathbb{E}[xy^T] - \\mathbb{E}[x]\\mathbb{E}[y]^T = Cov[y,x]^T \\in \\mathbb{R}^{D \\times E}\n",
    "$$\n",
    "\n",
    "**Variance:** The variance of a random variable $X$ with states $x \\in \\mathbb{R}^D$ and a mean vector $\\mu \\in \\mathbb{R}^D$ is defined as:\n",
    "\n",
    "$$\n",
    "\\mathbb{V}_X [x] = Cov_X [x,x] = \\mathbb{E} _X [(x - \\mu)(x - \\mu)^T] = \\mathbb{E}_X[x^{}x^T] - \\mathbb{E}_X [x] \\mathbb{E}_X [x]^T \n",
    "$$\n",
    "\n",
    "**Correlation:** The correlation between two random variables $X, Y$ is given by:\n",
    "\n",
    "$$\n",
    "corr[x,y] = \\frac{Cov[x,y]}{\\sqrt{\\mathbb{V}[x]\\mathbb{V}[y]}} \\in [-1,1]\n",
    "$$"
   ]
  },
  {
   "cell_type": "markdown",
   "id": "ec983869-2ac4-484e-b43b-1a5117c1ac84",
   "metadata": {},
   "source": [
    "## Empirical Means and Covariances\n",
    "\n",
    "**Empirical Mean:** The empirical mean vector is the arithmetic average of the observations for each variable and it is defined as:\n",
    "\n",
    "$$\n",
    "{\\bar x} := \\frac{1}{N} \\sum \\limits _{n=1}^{N} x_n\n",
    "$$\n",
    " where $x_n \\in \\mathbb{R}^D$.\n",
    "\n",
    "**Empirical Covariance:** The empirical covariance matrix is a $D \\times D$ matrix.\n",
    "\n",
    "$$\n",
    "\\sum := \\frac{1}{N} \\sum \\limits _{n=1}^{N} (x_n-{\\bar x})(x_n-{\\bar x})^T\n",
    "$$\n",
    "\n",
    "**Variance:**\n",
    "\n",
    "$$\n",
    "\\mathbb{V}_X[x] := \\mathbb{E}_X[(x - \\mu)^2] = \\mathbb{E}[x^2] - (\\mathbb{E}_X[x])^2\n",
    "$$"
   ]
  },
  {
   "cell_type": "markdown",
   "id": "d31c2038-0971-4d94-a732-384de38d9a51",
   "metadata": {},
   "source": [
    "## Sums and Transformations of Random Variables\n",
    "\n",
    "For two random variables $X,Y$ with states $x,x \\in \\mathbb{R}^D$ the following holds:\n",
    "\n",
    "$$\n",
    "\\mathbb{E}[x+y] = \\mathbb{E}[x] + \\mathbb{E}[y] \\\\\n",
    "\\mathbb{E}[x-y] = \\mathbb{E}[x] - \\mathbb{E}[y] \\\\\n",
    "\\mathbb{V}[x+y] = \\mathbb{V}[x] + \\mathbb{V}[y] + Cov[x,y] + Cov[y,x] \\\\\n",
    "\\mathbb{V}[x-y] = \\mathbb{V}[x] + \\mathbb{V}[y] - Cov[x,y] - Cov[y,x]\n",
    "$$"
   ]
  },
  {
   "cell_type": "markdown",
   "id": "6168f30a-9d8d-4a87-8c59-88b7603a55df",
   "metadata": {},
   "source": [
    "## Statistical Independence\n",
    "\n",
    "Two random variables $X,Y$ are statistically independent if following is true:\n",
    "\n",
    "$$\n",
    "p(x,y) = p(x)p(y)\n",
    "$$\n",
    "\n",
    "More intuitively, the following yields:\n",
    "\n",
    "$$\n",
    "p(y|x) = p(y) \\\\\n",
    "p(x|y) = p(x) \\\\\n",
    "\\mathbb{V}_{X,Y}[x+y] = \\mathbb{V}_X[x] + \\mathbb{V}_Y[y] \\\\\n",
    "Cov_{X,Y}[x,y] = 0\n",
    "$$"
   ]
  },
  {
   "cell_type": "markdown",
   "id": "f480a535-396d-4bc2-8cfa-00f2ec322873",
   "metadata": {},
   "source": [
    "## Sources\n",
    "\n",
    "- [Deisenroth., M., Faisal, A., Ong, C. S. (2020). Mathematics for Machine Learning. Cambridge.](https://mml-book.github.io/book/mml-book.pdf)"
   ]
  }
 ],
 "metadata": {
  "kernelspec": {
   "display_name": "Python 3 (ipykernel)",
   "language": "python",
   "name": "python3"
  },
  "language_info": {
   "codemirror_mode": {
    "name": "ipython",
    "version": 3
   },
   "file_extension": ".py",
   "mimetype": "text/x-python",
   "name": "python",
   "nbconvert_exporter": "python",
   "pygments_lexer": "ipython3",
   "version": "3.8.12"
  }
 },
 "nbformat": 4,
 "nbformat_minor": 5
}
